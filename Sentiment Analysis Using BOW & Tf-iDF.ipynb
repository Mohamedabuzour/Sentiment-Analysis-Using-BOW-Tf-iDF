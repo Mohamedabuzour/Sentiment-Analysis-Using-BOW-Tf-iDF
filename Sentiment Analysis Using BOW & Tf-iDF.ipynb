{
 "cells": [
  {
   "cell_type": "markdown",
   "id": "cdee9417",
   "metadata": {},
   "source": [
    "# Project Requirements"
   ]
  },
  {
   "cell_type": "markdown",
   "id": "3f34359b",
   "metadata": {},
   "source": [
    "- **Imports**"
   ]
  },
  {
   "cell_type": "code",
   "execution_count": 21,
   "id": "e2f86648",
   "metadata": {},
   "outputs": [],
   "source": [
    "import re\n",
    "import nltk\n",
    "import numpy as np\n",
    "import pandas as pd \n",
    "from IPython.display import clear_output\n",
    "from warnings import filterwarnings\n",
    "filterwarnings(\"ignore\")"
   ]
  },
  {
   "cell_type": "markdown",
   "id": "3f1a3642",
   "metadata": {},
   "source": [
    "- **Necessary Installs & downloads**"
   ]
  },
  {
   "cell_type": "code",
   "execution_count": 22,
   "id": "d91ff0a6",
   "metadata": {},
   "outputs": [],
   "source": [
    "nltk.download('stopwords')\n",
    "clear_output()"
   ]
  },
  {
   "cell_type": "markdown",
   "id": "caff0ab8",
   "metadata": {
    "id": "5M24_bkbtEjs"
   },
   "source": [
    "# Read Data"
   ]
  },
  {
   "cell_type": "code",
   "execution_count": 23,
   "id": "f3aa610b",
   "metadata": {},
   "outputs": [
    {
     "data": {
      "text/html": [
       "<div>\n",
       "<style scoped>\n",
       "    .dataframe tbody tr th:only-of-type {\n",
       "        vertical-align: middle;\n",
       "    }\n",
       "\n",
       "    .dataframe tbody tr th {\n",
       "        vertical-align: top;\n",
       "    }\n",
       "\n",
       "    .dataframe thead th {\n",
       "        text-align: right;\n",
       "    }\n",
       "</style>\n",
       "<table border=\"1\" class=\"dataframe\">\n",
       "  <thead>\n",
       "    <tr style=\"text-align: right;\">\n",
       "      <th></th>\n",
       "      <th>Unnamed: 0</th>\n",
       "      <th>Tweet</th>\n",
       "      <th>rate</th>\n",
       "    </tr>\n",
       "  </thead>\n",
       "  <tbody>\n",
       "    <tr>\n",
       "      <th>0</th>\n",
       "      <td>0</td>\n",
       "      <td>#FollowFriday @France_Inte @PKuchly57 @Milipol...</td>\n",
       "      <td>1</td>\n",
       "    </tr>\n",
       "    <tr>\n",
       "      <th>1</th>\n",
       "      <td>1</td>\n",
       "      <td>@Lamb2ja Hey James! How odd :/ Please call our...</td>\n",
       "      <td>1</td>\n",
       "    </tr>\n",
       "    <tr>\n",
       "      <th>2</th>\n",
       "      <td>2</td>\n",
       "      <td>@DespiteOfficial we had a listen last night :)...</td>\n",
       "      <td>1</td>\n",
       "    </tr>\n",
       "    <tr>\n",
       "      <th>3</th>\n",
       "      <td>3</td>\n",
       "      <td>@97sides CONGRATS :)</td>\n",
       "      <td>1</td>\n",
       "    </tr>\n",
       "    <tr>\n",
       "      <th>4</th>\n",
       "      <td>4</td>\n",
       "      <td>yeaaaah yippppy!!!  my accnt verified rqst has...</td>\n",
       "      <td>1</td>\n",
       "    </tr>\n",
       "  </tbody>\n",
       "</table>\n",
       "</div>"
      ],
      "text/plain": [
       "   Unnamed: 0                                              Tweet  rate\n",
       "0           0  #FollowFriday @France_Inte @PKuchly57 @Milipol...     1\n",
       "1           1  @Lamb2ja Hey James! How odd :/ Please call our...     1\n",
       "2           2  @DespiteOfficial we had a listen last night :)...     1\n",
       "3           3                               @97sides CONGRATS :)     1\n",
       "4           4  yeaaaah yippppy!!!  my accnt verified rqst has...     1"
      ]
     },
     "execution_count": 23,
     "metadata": {},
     "output_type": "execute_result"
    }
   ],
   "source": [
    "df = pd.read_csv(\"data.csv\")\n",
    "df.head()"
   ]
  },
  {
   "cell_type": "markdown",
   "id": "f48fa5c3",
   "metadata": {
    "id": "tJ5fLcJtuBNu"
   },
   "source": [
    "# Data Preprocessing"
   ]
  },
  {
   "cell_type": "markdown",
   "id": "81528867",
   "metadata": {},
   "source": [
    "### 1) Text processing:"
   ]
  },
  {
   "cell_type": "markdown",
   "id": "f099a9c1",
   "metadata": {},
   "source": [
    "- **Text Cleaning**\n",
    "    - Use `re` package to remove hyperlinks, twitter marks and styles"
   ]
  },
  {
   "cell_type": "code",
   "execution_count": 24,
   "id": "7d3db8eb",
   "metadata": {
    "colab": {
     "base_uri": "https://localhost:8080/",
     "height": 35
    },
    "id": "cnhX4wsU7hzK",
    "outputId": "a48f15b0-a762-408e-dbeb-736cdd4abfae"
   },
   "outputs": [],
   "source": [
    "def clean(tweet):\n",
    "    tweet=re.sub('(#|@)\\w*',\"\",tweet)# \\w [a-z|A_Z|0-9|_]\n",
    "    tweet=re.sub(\"https?:\\/\\/\\S+\",\"\",tweet)\n",
    "    tweet=re.sub(\"(\\?|!)+\",\" \",tweet)\n",
    "    tweet=re.sub(\"\\s\\d+\\s\",\"\",tweet)\n",
    "    tweet=re.sub(\"(\\.|\\,)+\",\"\",tweet)\n",
    "    tweet=re.sub(\"^\\s+\",\"\",tweet)\n",
    "    tweet=re.sub(\"\\s+$\",\"\",tweet)\n",
    "    return tweet"
   ]
  },
  {
   "cell_type": "markdown",
   "id": "17929893",
   "metadata": {},
   "source": [
    "- **Tokenization**"
   ]
  },
  {
   "cell_type": "code",
   "execution_count": 25,
   "id": "dab4ac61",
   "metadata": {},
   "outputs": [],
   "source": [
    "def tokenize(tweet):\n",
    "    return tweet.split()"
   ]
  },
  {
   "cell_type": "markdown",
   "id": "cdf3eb24",
   "metadata": {},
   "source": [
    "- **Lowercase words**"
   ]
  },
  {
   "cell_type": "code",
   "execution_count": 26,
   "id": "9109172d",
   "metadata": {
    "colab": {
     "base_uri": "https://localhost:8080/"
    },
    "id": "eBdrlSZ7_eoD",
    "outputId": "050f2924-b94d-4e34-c3a2-3a909f7c82cb"
   },
   "outputs": [],
   "source": [
    "def lowercase(tweet):\n",
    "    return [token.lower() for token in tweet]"
   ]
  },
  {
   "cell_type": "markdown",
   "id": "0e3dd7be",
   "metadata": {},
   "source": [
    "- **Remove Stop words**"
   ]
  },
  {
   "cell_type": "code",
   "execution_count": 27,
   "id": "af5e8c0b",
   "metadata": {},
   "outputs": [],
   "source": [
    "from nltk.corpus import stopwords\n",
    "stop_words=stopwords.words('english')"
   ]
  },
  {
   "cell_type": "code",
   "execution_count": 28,
   "id": "8e863d5b",
   "metadata": {
    "colab": {
     "base_uri": "https://localhost:8080/"
    },
    "id": "kFmp2pxV_Old",
    "outputId": "321b811b-4649-421d-a82f-9847acc6bd7e"
   },
   "outputs": [],
   "source": [
    "def rmv_stop_words(tweet):\n",
    "    return [token for token in tweet if token not in stop_words]"
   ]
  },
  {
   "cell_type": "markdown",
   "id": "dac0a814",
   "metadata": {},
   "source": [
    "- **Stemming**"
   ]
  },
  {
   "cell_type": "code",
   "execution_count": 29,
   "id": "3de6113a",
   "metadata": {},
   "outputs": [],
   "source": [
    "from nltk.stem import PorterStemmer\n",
    "stemmer=PorterStemmer()"
   ]
  },
  {
   "cell_type": "code",
   "execution_count": 30,
   "id": "6807e1e7",
   "metadata": {
    "colab": {
     "base_uri": "https://localhost:8080/"
    },
    "id": "sL5kRZpW_qr8",
    "outputId": "16f278dd-5c9e-4ede-f55d-c8cc534000c8"
   },
   "outputs": [],
   "source": [
    "def stemming(tweet):\n",
    "    return [stemmer.stem(token) for token in tweet]"
   ]
  },
  {
   "cell_type": "markdown",
   "id": "3ed2112e",
   "metadata": {},
   "source": [
    "- **All of above in one method**"
   ]
  },
  {
   "cell_type": "code",
   "execution_count": 31,
   "id": "7d96b0bb",
   "metadata": {},
   "outputs": [],
   "source": [
    "def text_processing(tweets):\n",
    "    return np.array([stemming(rmv_stop_words(lowercase(tokenize(clean(tweet))))) for tweet in tweets])"
   ]
  },
  {
   "cell_type": "markdown",
   "id": "a0b5c0e9",
   "metadata": {},
   "source": [
    "- **Apply Text preprocessing**"
   ]
  },
  {
   "cell_type": "code",
   "execution_count": 32,
   "id": "481fa1d3",
   "metadata": {},
   "outputs": [],
   "source": [
    "tweets = text_processing(df.Tweet)\n",
    "rates = df.rate"
   ]
  },
  {
   "cell_type": "markdown",
   "id": "5b868ad5",
   "metadata": {},
   "source": [
    "### B) Feature Extraction (BOW & Tf-iDF)"
   ]
  },
  {
   "cell_type": "code",
   "execution_count": 33,
   "id": "5b4cd5da",
   "metadata": {},
   "outputs": [],
   "source": [
    "from sklearn.feature_extraction.text import CountVectorizer, TfidfVectorizer"
   ]
  },
  {
   "cell_type": "code",
   "execution_count": 17,
   "id": "cdca25e6",
   "metadata": {},
   "outputs": [],
   "source": [
    "# you must change the tweets back into sentence to apply bag of words\n",
    "corpus = [' '.join(tweet) for tweet in tweets]"
   ]
  },
  {
   "cell_type": "code",
   "execution_count": 53,
   "id": "83280905",
   "metadata": {},
   "outputs": [],
   "source": [
    "vectorizer = CountVectorizer()\n",
    "# vectorizer = TfidfVectorizer() # uncomment to use Tf-iDF instead of Bag of Words\n",
    "\n",
    "new_tweets = vectorizer.fit_transform(corpus).toarray()\n",
    "\n",
    "# feature_names = vectorizer.get_feature_names_out()"
   ]
  },
  {
   "cell_type": "markdown",
   "id": "f505a5dc",
   "metadata": {},
   "source": [
    "# Data Split"
   ]
  },
  {
   "cell_type": "code",
   "execution_count": 54,
   "id": "bef9df30",
   "metadata": {},
   "outputs": [],
   "source": [
    "from sklearn.model_selection import train_test_split\n",
    "X, y = new_tweets, rates\n",
    "X_train, X_test, y_train, y_test = train_test_split(X, y, test_size=.2, random_state=42)\n",
    "X_train, X_val, y_train, y_val = train_test_split(X_train, y_train, test_size=.1, random_state=42)"
   ]
  },
  {
   "cell_type": "markdown",
   "id": "f1695a08",
   "metadata": {},
   "source": [
    "# Logistic Reg Model"
   ]
  },
  {
   "cell_type": "markdown",
   "id": "3f2d7813",
   "metadata": {},
   "source": [
    "**Training**"
   ]
  },
  {
   "cell_type": "code",
   "execution_count": 55,
   "id": "41c51aef",
   "metadata": {},
   "outputs": [
    {
     "data": {
      "text/html": [
       "<style>#sk-container-id-4 {color: black;background-color: white;}#sk-container-id-4 pre{padding: 0;}#sk-container-id-4 div.sk-toggleable {background-color: white;}#sk-container-id-4 label.sk-toggleable__label {cursor: pointer;display: block;width: 100%;margin-bottom: 0;padding: 0.3em;box-sizing: border-box;text-align: center;}#sk-container-id-4 label.sk-toggleable__label-arrow:before {content: \"▸\";float: left;margin-right: 0.25em;color: #696969;}#sk-container-id-4 label.sk-toggleable__label-arrow:hover:before {color: black;}#sk-container-id-4 div.sk-estimator:hover label.sk-toggleable__label-arrow:before {color: black;}#sk-container-id-4 div.sk-toggleable__content {max-height: 0;max-width: 0;overflow: hidden;text-align: left;background-color: #f0f8ff;}#sk-container-id-4 div.sk-toggleable__content pre {margin: 0.2em;color: black;border-radius: 0.25em;background-color: #f0f8ff;}#sk-container-id-4 input.sk-toggleable__control:checked~div.sk-toggleable__content {max-height: 200px;max-width: 100%;overflow: auto;}#sk-container-id-4 input.sk-toggleable__control:checked~label.sk-toggleable__label-arrow:before {content: \"▾\";}#sk-container-id-4 div.sk-estimator input.sk-toggleable__control:checked~label.sk-toggleable__label {background-color: #d4ebff;}#sk-container-id-4 div.sk-label input.sk-toggleable__control:checked~label.sk-toggleable__label {background-color: #d4ebff;}#sk-container-id-4 input.sk-hidden--visually {border: 0;clip: rect(1px 1px 1px 1px);clip: rect(1px, 1px, 1px, 1px);height: 1px;margin: -1px;overflow: hidden;padding: 0;position: absolute;width: 1px;}#sk-container-id-4 div.sk-estimator {font-family: monospace;background-color: #f0f8ff;border: 1px dotted black;border-radius: 0.25em;box-sizing: border-box;margin-bottom: 0.5em;}#sk-container-id-4 div.sk-estimator:hover {background-color: #d4ebff;}#sk-container-id-4 div.sk-parallel-item::after {content: \"\";width: 100%;border-bottom: 1px solid gray;flex-grow: 1;}#sk-container-id-4 div.sk-label:hover label.sk-toggleable__label {background-color: #d4ebff;}#sk-container-id-4 div.sk-serial::before {content: \"\";position: absolute;border-left: 1px solid gray;box-sizing: border-box;top: 0;bottom: 0;left: 50%;z-index: 0;}#sk-container-id-4 div.sk-serial {display: flex;flex-direction: column;align-items: center;background-color: white;padding-right: 0.2em;padding-left: 0.2em;position: relative;}#sk-container-id-4 div.sk-item {position: relative;z-index: 1;}#sk-container-id-4 div.sk-parallel {display: flex;align-items: stretch;justify-content: center;background-color: white;position: relative;}#sk-container-id-4 div.sk-item::before, #sk-container-id-4 div.sk-parallel-item::before {content: \"\";position: absolute;border-left: 1px solid gray;box-sizing: border-box;top: 0;bottom: 0;left: 50%;z-index: -1;}#sk-container-id-4 div.sk-parallel-item {display: flex;flex-direction: column;z-index: 1;position: relative;background-color: white;}#sk-container-id-4 div.sk-parallel-item:first-child::after {align-self: flex-end;width: 50%;}#sk-container-id-4 div.sk-parallel-item:last-child::after {align-self: flex-start;width: 50%;}#sk-container-id-4 div.sk-parallel-item:only-child::after {width: 0;}#sk-container-id-4 div.sk-dashed-wrapped {border: 1px dashed gray;margin: 0 0.4em 0.5em 0.4em;box-sizing: border-box;padding-bottom: 0.4em;background-color: white;}#sk-container-id-4 div.sk-label label {font-family: monospace;font-weight: bold;display: inline-block;line-height: 1.2em;}#sk-container-id-4 div.sk-label-container {text-align: center;}#sk-container-id-4 div.sk-container {/* jupyter's `normalize.less` sets `[hidden] { display: none; }` but bootstrap.min.css set `[hidden] { display: none !important; }` so we also need the `!important` here to be able to override the default hidden behavior on the sphinx rendered scikit-learn.org. See: https://github.com/scikit-learn/scikit-learn/issues/21755 */display: inline-block !important;position: relative;}#sk-container-id-4 div.sk-text-repr-fallback {display: none;}</style><div id=\"sk-container-id-4\" class=\"sk-top-container\"><div class=\"sk-text-repr-fallback\"><pre>LogisticRegression()</pre><b>In a Jupyter environment, please rerun this cell to show the HTML representation or trust the notebook. <br />On GitHub, the HTML representation is unable to render, please try loading this page with nbviewer.org.</b></div><div class=\"sk-container\" hidden><div class=\"sk-item\"><div class=\"sk-estimator sk-toggleable\"><input class=\"sk-toggleable__control sk-hidden--visually\" id=\"sk-estimator-id-4\" type=\"checkbox\" checked><label for=\"sk-estimator-id-4\" class=\"sk-toggleable__label sk-toggleable__label-arrow\">LogisticRegression</label><div class=\"sk-toggleable__content\"><pre>LogisticRegression()</pre></div></div></div></div></div>"
      ],
      "text/plain": [
       "LogisticRegression()"
      ]
     },
     "execution_count": 55,
     "metadata": {},
     "output_type": "execute_result"
    }
   ],
   "source": [
    "from sklearn.linear_model import LogisticRegression\n",
    "lr_model = LogisticRegression()\n",
    "lr_model.fit(X_train, y_train)"
   ]
  },
  {
   "cell_type": "markdown",
   "id": "ef2373c6",
   "metadata": {},
   "source": [
    "**Evaluation**"
   ]
  },
  {
   "cell_type": "code",
   "execution_count": 56,
   "id": "f9f2a533",
   "metadata": {},
   "outputs": [],
   "source": [
    "from sklearn.metrics import accuracy_score"
   ]
  },
  {
   "cell_type": "code",
   "execution_count": 57,
   "id": "065dd6e0",
   "metadata": {},
   "outputs": [],
   "source": [
    "train_pred = lr_model.predict(X_train)\n",
    "val_pred = lr_model.predict(X_val)\n",
    "test_pred = lr_model.predict(X_test)\n",
    "\n",
    "tr_acc = round(accuracy_score(train_pred, y_train), 4)\n",
    "val_acc = round(accuracy_score(val_pred, y_val), 4)\n",
    "ts_acc = round(accuracy_score(test_pred, y_test), 4)"
   ]
  },
  {
   "cell_type": "code",
   "execution_count": 58,
   "id": "5b441b2f",
   "metadata": {
    "scrolled": true
   },
   "outputs": [
    {
     "name": "stdout",
     "output_type": "stream",
     "text": [
      "Training Accuracy ==> 86.88%\n",
      "Validation Accuracy ==> 73.88%\n"
     ]
    }
   ],
   "source": [
    "print(f\"Training Accuracy ==> {tr_acc*100}%\")\n",
    "print(f\"Validation Accuracy ==> {val_acc*100}%\")"
   ]
  },
  {
   "cell_type": "markdown",
   "id": "21f6e77a",
   "metadata": {},
   "source": [
    "# Naive Bayes ML Model"
   ]
  },
  {
   "cell_type": "code",
   "execution_count": 59,
   "id": "e258e52f",
   "metadata": {},
   "outputs": [],
   "source": [
    "from sklearn.naive_bayes import GaussianNB"
   ]
  },
  {
   "cell_type": "markdown",
   "id": "489f4eba",
   "metadata": {},
   "source": [
    "**Training the model**"
   ]
  },
  {
   "cell_type": "code",
   "execution_count": 60,
   "id": "8e846b1d",
   "metadata": {},
   "outputs": [
    {
     "data": {
      "text/html": [
       "<style>#sk-container-id-5 {color: black;background-color: white;}#sk-container-id-5 pre{padding: 0;}#sk-container-id-5 div.sk-toggleable {background-color: white;}#sk-container-id-5 label.sk-toggleable__label {cursor: pointer;display: block;width: 100%;margin-bottom: 0;padding: 0.3em;box-sizing: border-box;text-align: center;}#sk-container-id-5 label.sk-toggleable__label-arrow:before {content: \"▸\";float: left;margin-right: 0.25em;color: #696969;}#sk-container-id-5 label.sk-toggleable__label-arrow:hover:before {color: black;}#sk-container-id-5 div.sk-estimator:hover label.sk-toggleable__label-arrow:before {color: black;}#sk-container-id-5 div.sk-toggleable__content {max-height: 0;max-width: 0;overflow: hidden;text-align: left;background-color: #f0f8ff;}#sk-container-id-5 div.sk-toggleable__content pre {margin: 0.2em;color: black;border-radius: 0.25em;background-color: #f0f8ff;}#sk-container-id-5 input.sk-toggleable__control:checked~div.sk-toggleable__content {max-height: 200px;max-width: 100%;overflow: auto;}#sk-container-id-5 input.sk-toggleable__control:checked~label.sk-toggleable__label-arrow:before {content: \"▾\";}#sk-container-id-5 div.sk-estimator input.sk-toggleable__control:checked~label.sk-toggleable__label {background-color: #d4ebff;}#sk-container-id-5 div.sk-label input.sk-toggleable__control:checked~label.sk-toggleable__label {background-color: #d4ebff;}#sk-container-id-5 input.sk-hidden--visually {border: 0;clip: rect(1px 1px 1px 1px);clip: rect(1px, 1px, 1px, 1px);height: 1px;margin: -1px;overflow: hidden;padding: 0;position: absolute;width: 1px;}#sk-container-id-5 div.sk-estimator {font-family: monospace;background-color: #f0f8ff;border: 1px dotted black;border-radius: 0.25em;box-sizing: border-box;margin-bottom: 0.5em;}#sk-container-id-5 div.sk-estimator:hover {background-color: #d4ebff;}#sk-container-id-5 div.sk-parallel-item::after {content: \"\";width: 100%;border-bottom: 1px solid gray;flex-grow: 1;}#sk-container-id-5 div.sk-label:hover label.sk-toggleable__label {background-color: #d4ebff;}#sk-container-id-5 div.sk-serial::before {content: \"\";position: absolute;border-left: 1px solid gray;box-sizing: border-box;top: 0;bottom: 0;left: 50%;z-index: 0;}#sk-container-id-5 div.sk-serial {display: flex;flex-direction: column;align-items: center;background-color: white;padding-right: 0.2em;padding-left: 0.2em;position: relative;}#sk-container-id-5 div.sk-item {position: relative;z-index: 1;}#sk-container-id-5 div.sk-parallel {display: flex;align-items: stretch;justify-content: center;background-color: white;position: relative;}#sk-container-id-5 div.sk-item::before, #sk-container-id-5 div.sk-parallel-item::before {content: \"\";position: absolute;border-left: 1px solid gray;box-sizing: border-box;top: 0;bottom: 0;left: 50%;z-index: -1;}#sk-container-id-5 div.sk-parallel-item {display: flex;flex-direction: column;z-index: 1;position: relative;background-color: white;}#sk-container-id-5 div.sk-parallel-item:first-child::after {align-self: flex-end;width: 50%;}#sk-container-id-5 div.sk-parallel-item:last-child::after {align-self: flex-start;width: 50%;}#sk-container-id-5 div.sk-parallel-item:only-child::after {width: 0;}#sk-container-id-5 div.sk-dashed-wrapped {border: 1px dashed gray;margin: 0 0.4em 0.5em 0.4em;box-sizing: border-box;padding-bottom: 0.4em;background-color: white;}#sk-container-id-5 div.sk-label label {font-family: monospace;font-weight: bold;display: inline-block;line-height: 1.2em;}#sk-container-id-5 div.sk-label-container {text-align: center;}#sk-container-id-5 div.sk-container {/* jupyter's `normalize.less` sets `[hidden] { display: none; }` but bootstrap.min.css set `[hidden] { display: none !important; }` so we also need the `!important` here to be able to override the default hidden behavior on the sphinx rendered scikit-learn.org. See: https://github.com/scikit-learn/scikit-learn/issues/21755 */display: inline-block !important;position: relative;}#sk-container-id-5 div.sk-text-repr-fallback {display: none;}</style><div id=\"sk-container-id-5\" class=\"sk-top-container\"><div class=\"sk-text-repr-fallback\"><pre>GaussianNB()</pre><b>In a Jupyter environment, please rerun this cell to show the HTML representation or trust the notebook. <br />On GitHub, the HTML representation is unable to render, please try loading this page with nbviewer.org.</b></div><div class=\"sk-container\" hidden><div class=\"sk-item\"><div class=\"sk-estimator sk-toggleable\"><input class=\"sk-toggleable__control sk-hidden--visually\" id=\"sk-estimator-id-5\" type=\"checkbox\" checked><label for=\"sk-estimator-id-5\" class=\"sk-toggleable__label sk-toggleable__label-arrow\">GaussianNB</label><div class=\"sk-toggleable__content\"><pre>GaussianNB()</pre></div></div></div></div></div>"
      ],
      "text/plain": [
       "GaussianNB()"
      ]
     },
     "execution_count": 60,
     "metadata": {},
     "output_type": "execute_result"
    }
   ],
   "source": [
    "nb_model = GaussianNB()\n",
    "nb_model.fit(X_train, y_train)"
   ]
  },
  {
   "cell_type": "markdown",
   "id": "0b3ab0ac",
   "metadata": {},
   "source": [
    "**Evaluating the model**"
   ]
  },
  {
   "cell_type": "code",
   "execution_count": 61,
   "id": "b3c79152",
   "metadata": {},
   "outputs": [],
   "source": [
    "from sklearn.metrics import accuracy_score \n",
    "train_pred = nb_model.predict(X_train)\n",
    "val_pred = nb_model.predict(X_val)\n",
    "\n",
    "tr_acc = round(accuracy_score(y_train, train_pred), 4)\n",
    "val_acc = round(accuracy_score(y_val, val_pred), 4)"
   ]
  },
  {
   "cell_type": "code",
   "execution_count": 62,
   "id": "1f5a39ec",
   "metadata": {},
   "outputs": [
    {
     "name": "stdout",
     "output_type": "stream",
     "text": [
      "88.18%\n",
      "61.5%\n"
     ]
    }
   ],
   "source": [
    "print(f\"{tr_acc * 100}%\")\n",
    "print(f\"{val_acc * 100}%\")"
   ]
  },
  {
   "cell_type": "markdown",
   "id": "725097ed",
   "metadata": {},
   "source": [
    "# The final Test"
   ]
  },
  {
   "cell_type": "code",
   "execution_count": 63,
   "id": "cb7bc0d2",
   "metadata": {},
   "outputs": [
    {
     "name": "stdout",
     "output_type": "stream",
     "text": [
      "73.5%\n"
     ]
    }
   ],
   "source": [
    "test_pred = lr_model.predict(X_test)\n",
    "ts_acc = round(accuracy_score(y_test, test_pred), 4)\n",
    "print(f\"{ts_acc * 100}%\")"
   ]
  },
  {
   "cell_type": "code",
   "execution_count": null,
   "id": "1c275bae",
   "metadata": {},
   "outputs": [],
   "source": []
  },
  {
   "cell_type": "code",
   "execution_count": null,
   "id": "51dcb53b",
   "metadata": {},
   "outputs": [],
   "source": []
  }
 ],
 "metadata": {
  "kernelspec": {
   "display_name": "Python 3 (ipykernel)",
   "language": "python",
   "name": "python3"
  },
  "language_info": {
   "codemirror_mode": {
    "name": "ipython",
    "version": 3
   },
   "file_extension": ".py",
   "mimetype": "text/x-python",
   "name": "python",
   "nbconvert_exporter": "python",
   "pygments_lexer": "ipython3",
   "version": "3.10.9"
  }
 },
 "nbformat": 4,
 "nbformat_minor": 5
}
